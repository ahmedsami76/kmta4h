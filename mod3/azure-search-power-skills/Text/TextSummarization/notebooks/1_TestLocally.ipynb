{
 "cells": [
  {
   "cell_type": "markdown",
   "metadata": {},
   "source": [
    "# Setup\n",
    "At this stage we assume that you have \n",
    "- Created a `.env` file in the powerskill folder with a key\n",
    "- Are either running\n",
    "    - Python application natively running on port 5000\n",
    "    - Local Docker container running on port 5000\n",
    "\n",
    "# Test our text on our local running API"
   ]
  },
  {
   "cell_type": "code",
   "execution_count": null,
   "metadata": {},
   "outputs": [],
   "source": [
    "import os\n",
    "from azure.core.credentials import AzureKeyCredential\n",
    "from azure.search.documents import SearchClient\n",
    "from IPython.display import Markdown, display\n",
    "from requests import post, put\n",
    "from dotenv import load_dotenv\n",
    "\n",
    "load_dotenv(dotenv_path='../powerskill/.env')\n",
    "\n",
    "API_KEY     = os.getenv(\"KEY\") # Set the KEY value you deployed your Web App with [YourSecretKeyCanBeAnything]\n",
    "URL_LOCAL   = f\"http://0.0.0.0:5000/api/extraction\"\n",
    "\n",
    "def printmd(string):\n",
    "    display(Markdown(string))\n",
    "\n",
    "def summarize(text):\n",
    "\n",
    "    try:\n",
    "        headers = {\n",
    "            # Request headers\n",
    "            \"Content-Type\": \"application/json\",\n",
    "            \"Ocp-Apim-Subscription-Key\": API_KEY,\n",
    "        }\n",
    "\n",
    "        body = {\n",
    "            \"values\": [\n",
    "                {\n",
    "                    \"recordId\": \"0\",\n",
    "                    \"data\": {\n",
    "                        \"text\": text\n",
    "                    }\n",
    "                }\n",
    "            ]\n",
    "        }\n",
    "\n",
    "        resp = post(url=URL_LOCAL, json=body, headers=headers)\n",
    "        result_response = resp.json()\n",
    "\n",
    "    except Exception as e:\n",
    "        print('Exception', e)\n",
    "        \n",
    "    return result_response\n",
    "       \n",
    "# Download test data \n",
    "directory = r\"../data/\"\n",
    "for filename in os.listdir(directory):\n",
    "    with open(os.path.join(directory, filename)) as txt:\n",
    "        text_to_summarise = txt.read()\n",
    "        \n",
    "    printmd(f\"***Full Text***\")\n",
    "    print(text_to_summarise.replace('&amp;', '&'))\n",
    "\n",
    "    result_response = summarize(text_to_summarise.replace('\"', '').replace('&amp;', '&'))\n",
    "    printmd(f\"**Summarized Text**\")\n",
    "    print(''.join(result_response['values'][0]['data']['summary']))"
   ]
  }
 ],
 "metadata": {
  "interpreter": {
   "hash": "33f291de0fd92b8a6f9f38894d1e3345d92874d6adb2586114aeb76b419608b1"
  },
  "kernelspec": {
   "display_name": "Python 3.7.10 64-bit ('ipykernel_py3': conda)",
   "name": "python3"
  },
  "language_info": {
   "codemirror_mode": {
    "name": "ipython",
    "version": 3
   },
   "file_extension": ".py",
   "mimetype": "text/x-python",
   "name": "python",
   "nbconvert_exporter": "python",
   "pygments_lexer": "ipython3",
   "version": "3.7.10"
  },
  "orig_nbformat": 4
 },
 "nbformat": 4,
 "nbformat_minor": 2
}