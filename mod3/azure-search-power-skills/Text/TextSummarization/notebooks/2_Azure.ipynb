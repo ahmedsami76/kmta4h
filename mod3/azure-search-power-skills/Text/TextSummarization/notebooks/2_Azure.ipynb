{
 "cells": [
  {
   "cell_type": "markdown",
   "metadata": {},
   "source": [
    "# Setup\n",
    "At this stage we assume that you have either\n",
    "- Ran `make deploy`\n",
    "- Deployed the solution and then filled in the .env file in this directory\n",
    "\n",
    "# Test our text on our Azure hosted API"
   ]
  },
  {
   "cell_type": "code",
   "execution_count": 1,
   "metadata": {},
   "outputs": [
    {
     "name": "stdout",
     "output_type": "stream",
     "text": [
      "Document 0\n"
     ]
    },
    {
     "data": {
      "text/markdown": [
       "***Locations***"
      ],
      "text/plain": [
       "<IPython.core.display.Markdown object>"
      ]
     },
     "metadata": {},
     "output_type": "display_data"
    },
    {
     "name": "stdout",
     "output_type": "stream",
     "text": [
      "['U.S.', 'Chinese', 'the U.S.', 'the White House', 'White House', 'EST']\n"
     ]
    },
    {
     "data": {
      "text/markdown": [
       "***Organizations***"
      ],
      "text/plain": [
       "<IPython.core.display.Markdown object>"
      ]
     },
     "metadata": {},
     "output_type": "display_data"
    },
    {
     "name": "stdout",
     "output_type": "stream",
     "text": [
      "['Dow Jones', 'Nasdaq', 'S&P', 'Dow Industrials', 'Reuters', 'the New York Stock Exchange', 'U.S. stock market', 'U.S.', 'New York Stock Exchange']\n"
     ]
    },
    {
     "data": {
      "text/markdown": [
       "***Persons***"
      ],
      "text/plain": [
       "<IPython.core.display.Markdown object>"
      ]
     },
     "metadata": {},
     "output_type": "display_data"
    },
    {
     "name": "stdout",
     "output_type": "stream",
     "text": [
      "['Alan Greenspan', 'Richard Cheney']\n"
     ]
    },
    {
     "data": {
      "text/markdown": [
       "**Summary**"
      ],
      "text/plain": [
       "<IPython.core.display.Markdown object>"
      ]
     },
     "metadata": {},
     "output_type": "display_data"
    },
    {
     "name": "stdout",
     "output_type": "stream",
     "text": [
      "[\"The biggest U.S. stock market index, the Dow Jones, plunged by more than 416 points by the closing bell on Tuesday, the worst single-day decline since the re-opening of the markets following the September 11th terrorist attacks. The slip followed a 9% sell-off in Chinese markets. Other stock indices, such as the Nasdaq and the S&P 500, dipped by 96 points and 50 points, respectively.\"]\n"
     ]
    }
   ],
   "source": [
    "import os\n",
    "from azure.core.credentials import AzureKeyCredential\n",
    "from azure.search.documents import SearchClient\n",
    "from IPython.display import Markdown, display\n",
    "from dotenv import load_dotenv\n",
    "\n",
    "load_dotenv(dotenv_path='.env')\n",
    "ACS_URL     = os.getenv(\"ACS_URL\")\n",
    "API_KEY     = os.getenv(\"SEARCH_API_KEY\")\n",
    "INDEX_NAME  = os.getenv(\"INDEX_NAME\")\n",
    "searchterm = \"$top=1\"\n",
    "\n",
    "def printmd(string):\n",
    "    display(Markdown(string))\n",
    "\n",
    "# Create a client\n",
    "credential = AzureKeyCredential(API_KEY)\n",
    "client = SearchClient(endpoint=ACS_URL,\n",
    "                      index_name=INDEX_NAME,\n",
    "                      credential=credential)\n",
    "\n",
    "results = client.search(search_text=searchterm, top=5)\n",
    "\n",
    "for i, result in enumerate(results):\n",
    "    print(f\"Document {i}\")\n",
    "    printmd(f\"***Locations***\")\n",
    "    print(result['location'])\n",
    "    printmd(f\"***Organizations***\")\n",
    "    print(result['organization'])\n",
    "    printmd(f\"***Persons***\")\n",
    "    print(result['person'])\n",
    "    printmd(f\"**Summary**\")\n",
    "    print(result['summary'])"
   ]
  }
 ],
 "metadata": {
  "interpreter": {
   "hash": "33f291de0fd92b8a6f9f38894d1e3345d92874d6adb2586114aeb76b419608b1"
  },
  "kernelspec": {
   "display_name": "Python 3.7.10 64-bit ('ipykernel_py3': conda)",
   "name": "python3"
  },
  "language_info": {
   "codemirror_mode": {
    "name": "ipython",
    "version": 3
   },
   "file_extension": ".py",
   "mimetype": "text/x-python",
   "name": "python",
   "nbconvert_exporter": "python",
   "pygments_lexer": "ipython3",
   "version": "3.7.10"
  },
  "orig_nbformat": 4
 },
 "nbformat": 4,
 "nbformat_minor": 2
}