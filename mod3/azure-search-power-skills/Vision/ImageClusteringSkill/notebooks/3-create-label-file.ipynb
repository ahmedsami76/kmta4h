{
 "cells": [
  {
   "cell_type": "markdown",
   "metadata": {},
   "source": [
    "# Create labels and test deployed API\n",
    "\n",
    "This notebook allows you to specify the labels and test the deployed API"
   ]
  },
  {
   "cell_type": "markdown",
   "metadata": {},
   "source": [
    "Now we create a label file for our clusters with inuitive search terms that will help our users easily find this \n",
    "data. If using your own data, find meaningful labels that faciliate how your users will search for this data.\n",
    "\n",
    "Here the dictionary key relates to the cluster id, and multiple labels can be applied to each cluster"
   ]
  },
  {
   "cell_type": "code",
   "execution_count": null,
   "metadata": {},
   "outputs": [],
   "source": [
    "import pickle\n",
    "\n",
    "label_file_name = \"labels.pkl\"\n",
    "\n",
    "# 0 is the cluster id\n",
    "dict = {2 : ['book cover', 'closed book'], 1 : ['open book', 'double spread'], 0: ['book shelf', 'library']}\n",
    "f = open(f\"../custom-skills-deployment/models/{label_file_name}\",\"wb\")  # We are saving the file to our models directory\n",
    "pickle.dump(dict,f)\n",
    "f.close()"
   ]
  }
 ],
 "metadata": {
  "interpreter": {
   "hash": "33f291de0fd92b8a6f9f38894d1e3345d92874d6adb2586114aeb76b419608b1"
  },
  "kernelspec": {
   "display_name": "Python 3.7.10 64-bit ('ipykernel_py3': conda)",
   "name": "python3"
  },
  "language_info": {
   "name": "python",
   "version": ""
  }
 },
 "nbformat": 4,
 "nbformat_minor": 4
}