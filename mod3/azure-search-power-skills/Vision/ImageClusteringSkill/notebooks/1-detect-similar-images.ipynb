{
 "cells": [
  {
   "cell_type": "markdown",
   "metadata": {},
   "source": [
    "# Detect similar images using clustering\n",
    "\n",
    "This notebooks demonstrates the idea behind the `ImageClusteringSkill` using a small dataset. Basically, the algorithm consists of the following two steps:\n",
    "1. Extract VGG16 embeddings\n",
    "2. Cluster embeddings using DBSCAN"
   ]
  },
  {
   "cell_type": "code",
   "execution_count": null,
   "metadata": {},
   "outputs": [],
   "source": [
    "import sys\n",
    "sys.path.append(\"../\")\n",
    "\n",
    "from sklearn.utils.estimator_checks import check_estimator\n",
    "\n",
    "import logging \n",
    "import matplotlib.pyplot as plt\n",
    "import ipyplot\n",
    "\n",
    "from ml.extractors.vgg16_extractor import VGG16Extractor\n",
    "from ml.models.DBSCAN import DBSCANv2\n",
    "from ml.similarity.detector import ImageSimilarityDetector\n",
    "from ml.utils.image import read_images_from_folder\n",
    "\n",
    "logging.getLogger().setLevel(logging.INFO)"
   ]
  },
  {
   "cell_type": "markdown",
   "metadata": {},
   "source": [
    "## Download sample dataset and display images"
   ]
  },
  {
   "cell_type": "code",
   "execution_count": null,
   "metadata": {},
   "outputs": [],
   "source": [
    "\n",
    "images_train, _ = read_images_from_folder('../data/train')\n",
    "\n",
    "ipyplot.plot_images(images_train, img_width=150, max_images=10)"
   ]
  },
  {
   "cell_type": "markdown",
   "metadata": {},
   "source": [
    "## Now we detect the similarity of the images"
   ]
  },
  {
   "cell_type": "code",
   "execution_count": null,
   "metadata": {},
   "outputs": [],
   "source": [
    "# Create VGG16 extractor\n",
    "extractor = VGG16Extractor(weights=\"../models/vgg16_weights_tf_dim_ordering_tf_kernels_notop.h5\")\n",
    "\n",
    "# Create DBSCANv2 instance and verify whether the custom class is correct\n",
    "model = DBSCANv2(eps=0.64, min_samples=3, metric=\"cosine\")\n",
    "check_estimator(model)\n",
    "\n",
    "# Create similarity detector\n",
    "detector = ImageSimilarityDetector(extractor, model)\n",
    "\n",
    "# Train detector\n",
    "labels_train = detector.train(images_train)"
   ]
  },
  {
   "cell_type": "markdown",
   "metadata": {},
   "source": [
    "## Let's display the images"
   ]
  },
  {
   "cell_type": "code",
   "execution_count": null,
   "metadata": {},
   "outputs": [],
   "source": [
    "# Display images for cluster #0\n",
    "\n",
    "cluster_id = 0\n",
    "clust = images_train[labels_train == cluster_id]\n",
    "ipyplot.plot_images(clust, img_width=150, max_images=len(clust), labels=labels_train[labels_train == cluster_id])"
   ]
  },
  {
   "cell_type": "code",
   "execution_count": null,
   "metadata": {},
   "outputs": [],
   "source": [
    "# Download test data \n",
    "images_test, _ = read_images_from_folder('../data/test')\n",
    "\n",
    "# Scoring\n",
    "labels_test = detector.assign_group(images_test)\n",
    "\n",
    "ipyplot.plot_images(images_test, img_width=150, max_images=20, labels=labels_test)"
   ]
  }
 ],
 "metadata": {
  "interpreter": {
   "hash": "33f291de0fd92b8a6f9f38894d1e3345d92874d6adb2586114aeb76b419608b1"
  },
  "kernelspec": {
   "display_name": "Python 3.7.10 64-bit ('ipykernel_py3': conda)",
   "name": "python3"
  },
  "language_info": {
   "codemirror_mode": {
    "name": "ipython",
    "version": 3
   },
   "file_extension": ".py",
   "mimetype": "text/x-python",
   "name": "python",
   "nbconvert_exporter": "python",
   "pygments_lexer": "ipython3",
   "version": "3.7.10"
  }
 },
 "nbformat": 4,
 "nbformat_minor": 2
}